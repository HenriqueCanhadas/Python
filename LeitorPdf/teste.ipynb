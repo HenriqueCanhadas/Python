{
 "cells": [
  {
   "cell_type": "code",
   "execution_count": 19,
   "metadata": {},
   "outputs": [
    {
     "ename": "FileNotFoundError",
     "evalue": "[Errno 2] No such file or directory: 'LeitorPdf\\\\arquivoteste.pdf'",
     "output_type": "error",
     "traceback": [
      "\u001b[1;31m---------------------------------------------------------------------------\u001b[0m",
      "\u001b[1;31mFileNotFoundError\u001b[0m                         Traceback (most recent call last)",
      "\u001b[1;32mc:\\Users\\henrique.canhadas\\OneDrive - Servmar Ambientais\\Documentos\\Codigos\\GitHub\\Python\\LeitorPdf\\teste.ipynb Cell 1\u001b[0m line \u001b[0;36m2\n\u001b[0;32m     <a href='vscode-notebook-cell:/c%3A/Users/henrique.canhadas/OneDrive%20-%20Servmar%20Ambientais/Documentos/Codigos/GitHub/Python/LeitorPdf/teste.ipynb#W0sZmlsZQ%3D%3D?line=24'>25</a>\u001b[0m         display(page_text)\n\u001b[0;32m     <a href='vscode-notebook-cell:/c%3A/Users/henrique.canhadas/OneDrive%20-%20Servmar%20Ambientais/Documentos/Codigos/GitHub/Python/LeitorPdf/teste.ipynb#W0sZmlsZQ%3D%3D?line=26'>27</a>\u001b[0m \u001b[39mif\u001b[39;00m \u001b[39m__name__\u001b[39m \u001b[39m==\u001b[39m \u001b[39m\"\u001b[39m\u001b[39m__main__\u001b[39m\u001b[39m\"\u001b[39m:\n\u001b[1;32m---> <a href='vscode-notebook-cell:/c%3A/Users/henrique.canhadas/OneDrive%20-%20Servmar%20Ambientais/Documentos/Codigos/GitHub/Python/LeitorPdf/teste.ipynb#W0sZmlsZQ%3D%3D?line=27'>28</a>\u001b[0m     extract_text_from_pdf(pdf_file_path)\n",
      "\u001b[1;32mc:\\Users\\henrique.canhadas\\OneDrive - Servmar Ambientais\\Documentos\\Codigos\\GitHub\\Python\\LeitorPdf\\teste.ipynb Cell 1\u001b[0m line \u001b[0;36m2\n\u001b[0;32m     <a href='vscode-notebook-cell:/c%3A/Users/henrique.canhadas/OneDrive%20-%20Servmar%20Ambientais/Documentos/Codigos/GitHub/Python/LeitorPdf/teste.ipynb#W0sZmlsZQ%3D%3D?line=17'>18</a>\u001b[0m \u001b[39mdef\u001b[39;00m \u001b[39mextract_text_from_pdf\u001b[39m(pdf_file_path):\n\u001b[0;32m     <a href='vscode-notebook-cell:/c%3A/Users/henrique.canhadas/OneDrive%20-%20Servmar%20Ambientais/Documentos/Codigos/GitHub/Python/LeitorPdf/teste.ipynb#W0sZmlsZQ%3D%3D?line=18'>19</a>\u001b[0m     \u001b[39m# Open the PDF file in binary read mode\u001b[39;00m\n\u001b[1;32m---> <a href='vscode-notebook-cell:/c%3A/Users/henrique.canhadas/OneDrive%20-%20Servmar%20Ambientais/Documentos/Codigos/GitHub/Python/LeitorPdf/teste.ipynb#W0sZmlsZQ%3D%3D?line=19'>20</a>\u001b[0m     pdf_reader \u001b[39m=\u001b[39m PdfReader(pdf_file_path)\n\u001b[0;32m     <a href='vscode-notebook-cell:/c%3A/Users/henrique.canhadas/OneDrive%20-%20Servmar%20Ambientais/Documentos/Codigos/GitHub/Python/LeitorPdf/teste.ipynb#W0sZmlsZQ%3D%3D?line=21'>22</a>\u001b[0m     \u001b[39m# Loop through the pages of the PDF and extract the text\u001b[39;00m\n\u001b[0;32m     <a href='vscode-notebook-cell:/c%3A/Users/henrique.canhadas/OneDrive%20-%20Servmar%20Ambientais/Documentos/Codigos/GitHub/Python/LeitorPdf/teste.ipynb#W0sZmlsZQ%3D%3D?line=22'>23</a>\u001b[0m     \u001b[39mfor\u001b[39;00m page \u001b[39min\u001b[39;00m pdf_reader\u001b[39m.\u001b[39mpages:\n",
      "File \u001b[1;32mc:\\Users\\henrique.canhadas\\AppData\\Local\\Programs\\Python\\Python311\\Lib\\site-packages\\PyPDF2\\_reader.py:317\u001b[0m, in \u001b[0;36mPdfReader.__init__\u001b[1;34m(self, stream, strict, password)\u001b[0m\n\u001b[0;32m    311\u001b[0m     logger_warning(\n\u001b[0;32m    312\u001b[0m         \u001b[39m\"\u001b[39m\u001b[39mPdfReader stream/file object is not in binary mode. \u001b[39m\u001b[39m\"\u001b[39m\n\u001b[0;32m    313\u001b[0m         \u001b[39m\"\u001b[39m\u001b[39mIt may not be read correctly.\u001b[39m\u001b[39m\"\u001b[39m,\n\u001b[0;32m    314\u001b[0m         \u001b[39m__name__\u001b[39m,\n\u001b[0;32m    315\u001b[0m     )\n\u001b[0;32m    316\u001b[0m \u001b[39mif\u001b[39;00m \u001b[39misinstance\u001b[39m(stream, (\u001b[39mstr\u001b[39m, Path)):\n\u001b[1;32m--> 317\u001b[0m     \u001b[39mwith\u001b[39;00m \u001b[39mopen\u001b[39m(stream, \u001b[39m\"\u001b[39m\u001b[39mrb\u001b[39m\u001b[39m\"\u001b[39m) \u001b[39mas\u001b[39;00m fh:\n\u001b[0;32m    318\u001b[0m         stream \u001b[39m=\u001b[39m BytesIO(fh\u001b[39m.\u001b[39mread())\n\u001b[0;32m    319\u001b[0m \u001b[39mself\u001b[39m\u001b[39m.\u001b[39mread(stream)\n",
      "\u001b[1;31mFileNotFoundError\u001b[0m: [Errno 2] No such file or directory: 'LeitorPdf\\\\arquivoteste.pdf'"
     ]
    }
   ],
   "source": [
    "import openpyxl\n",
    "\n",
    "workbook = openpyxl.load_workbook('LeitorPdf/arquivoteste.xlsx')\n",
    "\n",
    "sheet = workbook['Table 2']\n",
    "\n",
    "for row in sheet.iter_rows():\n",
    "    for cell in row:\n",
    "        print(cell.value, end='\\t')  # Imprime o valor da célula separado por tabulação\n",
    "    print()  # Imprime uma nova linha após cada linha de células\n",
    "\n",
    "# Feche o arquivo após a leitura\n",
    "workbook.close()"
   ]
  }
 ],
 "metadata": {
  "kernelspec": {
   "display_name": "Python 3",
   "language": "python",
   "name": "python3"
  },
  "language_info": {
   "codemirror_mode": {
    "name": "ipython",
    "version": 3
   },
   "file_extension": ".py",
   "mimetype": "text/x-python",
   "name": "python",
   "nbconvert_exporter": "python",
   "pygments_lexer": "ipython3",
   "version": "3.11.3"
  }
 },
 "nbformat": 4,
 "nbformat_minor": 2
}
