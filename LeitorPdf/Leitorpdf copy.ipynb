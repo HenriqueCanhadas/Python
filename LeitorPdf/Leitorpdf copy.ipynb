import PyPDF2

with open('LeitorPdf/arquivoteste.pdf', 'rb') as pdf_file:
    pdf_reader = PyPDF2.PdfReader(pdf_file)

    # Suponha que você queira extrair o texto da primeira página (índice 0)
    page = pdf_reader.pages[1]
    page_text = page.extract_text()

    print(page_text)